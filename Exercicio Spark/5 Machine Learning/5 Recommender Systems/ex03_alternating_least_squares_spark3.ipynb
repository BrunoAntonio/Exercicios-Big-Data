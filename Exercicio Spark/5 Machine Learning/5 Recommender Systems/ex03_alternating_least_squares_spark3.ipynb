{
 "cells": [
  {
   "cell_type": "code",
   "execution_count": 1,
   "id": "approved-fishing",
   "metadata": {},
   "outputs": [],
   "source": [
    "import findspark\n",
    "\n",
    "findspark.init('C:/Users/Bruno/anaconda3/Lib/site-packages/Spark')"
   ]
  },
  {
   "cell_type": "code",
   "execution_count": 3,
   "id": "loose-compression",
   "metadata": {},
   "outputs": [
    {
     "name": "stdout",
     "output_type": "stream",
     "text": [
      "Training recommendation model...\n",
      "Top 10 recommendations for user ID 1\n",
      "Secret Agent, The (1996)6.662696838378906\n",
      "Living in Oblivion (1995)6.202996253967285\n",
      "Crooklyn (1994)6.185708522796631\n",
      "Faust (1994)6.109871864318848\n",
      "Angel Baby (1995)6.007585525512695\n",
      "Grosse Fatigue (1994)5.950167655944824\n",
      "Two or Three Things I Know About Her (1966)5.802209854125977\n",
      "Hard Eight (1996)5.7189717292785645\n",
      "Unzipped (1995)5.713100433349609\n",
      "So Dear to My Heart (1949)5.638084888458252\n"
     ]
    }
   ],
   "source": [
    "from pyspark.sql import SparkSession\n",
    "from pyspark.sql.types import StructType, StructField, IntegerType, LongType\n",
    "from pyspark.ml.recommendation import ALS\n",
    "import sys\n",
    "import codecs\n",
    "\n",
    "def loadMovieNames():\n",
    "    movieNames = {}\n",
    "    # CHANGE THIS TO THE PATH TO YOUR u.ITEM FILE:\n",
    "    with codecs.open(\"C:/Users/Bruno/Desktop/Python/Projectos Big Data/Spark/ml-100k/u.ITEM\", \"r\", encoding='ISO-8859-1', errors='ignore') as f:\n",
    "        for line in f:\n",
    "            fields = line.split('|')\n",
    "            movieNames[int(fields[0])] = fields[1]\n",
    "    return movieNames\n",
    "\n",
    "\n",
    "spark = SparkSession.builder.appName(\"ALSExample\").getOrCreate()\n",
    "    \n",
    "moviesSchema = StructType([ \\\n",
    "                     StructField(\"userID\", IntegerType(), True), \\\n",
    "                     StructField(\"movieID\", IntegerType(), True), \\\n",
    "                     StructField(\"rating\", IntegerType(), True), \\\n",
    "                     StructField(\"timestamp\", LongType(), True)])\n",
    "    \n",
    "names = loadMovieNames()\n",
    "    \n",
    "ratings = spark.read.option(\"sep\", \"\\t\").schema(moviesSchema) \\\n",
    "    .csv(\"C:/Users/Bruno/Desktop/Python/Projectos Big Data/Spark/ml-100k/u.data\")\n",
    "    \n",
    "print(\"Training recommendation model...\")\n",
    "\n",
    "als = ALS().setMaxIter(5).setRegParam(0.01).setUserCol(\"userID\").setItemCol(\"movieID\") \\\n",
    "    .setRatingCol(\"rating\")\n",
    "    \n",
    "model = als.fit(ratings)\n",
    "\n",
    "# Manually construct a dataframe of the user ID's we want recs for\n",
    "#userID = int(sys.argv[1])\n",
    "userID = 1\n",
    "\n",
    "userSchema = StructType([StructField(\"userID\", IntegerType(), True)])\n",
    "users = spark.createDataFrame([[userID,]], userSchema)\n",
    "\n",
    "recommendations = model.recommendForUserSubset(users, 10).collect()\n",
    "\n",
    "print(\"Top 10 recommendations for user ID \" + str(userID))\n",
    "\n",
    "for userRecs in recommendations:\n",
    "    myRecs = userRecs[1]  #userRecs is (userID, [Row(movieId, rating), Row(movieID, rating)...])\n",
    "    for rec in myRecs: #my Recs is just the column of recs for the user\n",
    "        movie = rec[0] #For each rec in the list, extract the movie ID and rating\n",
    "        rating = rec[1]\n",
    "        movieName = names[movie]\n",
    "        print(movieName + str(rating))"
   ]
  },
  {
   "cell_type": "code",
   "execution_count": null,
   "id": "finnish-stamp",
   "metadata": {},
   "outputs": [],
   "source": []
  }
 ],
 "metadata": {
  "kernelspec": {
   "display_name": "Python 3",
   "language": "python",
   "name": "python3"
  },
  "language_info": {
   "codemirror_mode": {
    "name": "ipython",
    "version": 3
   },
   "file_extension": ".py",
   "mimetype": "text/x-python",
   "name": "python",
   "nbconvert_exporter": "python",
   "pygments_lexer": "ipython3",
   "version": "3.8.3"
  }
 },
 "nbformat": 4,
 "nbformat_minor": 5
}
