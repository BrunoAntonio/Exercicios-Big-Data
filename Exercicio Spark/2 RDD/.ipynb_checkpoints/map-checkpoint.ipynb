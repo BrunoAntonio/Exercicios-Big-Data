{
 "cells": [
  {
   "cell_type": "code",
   "execution_count": null,
   "id": "gothic-pharmacology",
   "metadata": {},
   "outputs": [],
   "source": [
    "from pyspark import SparkConf, SparkContext\n",
    "\n",
    "conf = SparkConf().setMaster(\"local\").setAppName(\"FriendsByAge\")\n",
    "sc = SparkContext(conf = conf)\n",
    "\n",
    "def parseLine(line):\n",
    "    fields = line.split(',')\n",
    "    age = int(fields[2])\n",
    "    numFriends = int(fields[3])\n",
    "    return (age, numFriends)\n",
    "\n",
    "lines = sc.textFile(\"C:/Users/Bruno/Desktop/Python/Projectos Big Data/Spark/fakefriends.csv\")\n",
    "rdd = lines.map(parseLine)\n",
    "\n",
    "#########\n",
    "#(33,385)\n",
    "#(33,2)\n",
    "#(55,221)\n",
    "\n",
    "#mapValues\n",
    "#(33,385) => (33,(381,1)) - para fazer a soma indicar que o 381 repete-se 1 vez\n",
    "#(33,2) => (33,(2,1))\n",
    "#(55,221) => (55,(221,1))\n",
    "\n",
    "#reduceByKey - soma todos os valores iguais\n",
    "#(33,(387,2))\n",
    "\n",
    "totalsByAge = rdd.mapValues(lambda x: (x, 1)).reduceByKey(lambda x, y: (x[0] + y[0], x[1] + y[1]))\n",
    "\n",
    "averagesByAge = totalsByAge.mapValues(lambda x: x[0] / x[1])\n",
    "\n",
    "# collect - obter os elementos de averagesByAge\n",
    "results = averagesByAge.collect()\n",
    "for result in results:\n",
    "    print(result)"
   ]
  }
 ],
 "metadata": {
  "kernelspec": {
   "display_name": "Python 3",
   "language": "python",
   "name": "python3"
  },
  "language_info": {
   "codemirror_mode": {
    "name": "ipython",
    "version": 3
   },
   "file_extension": ".py",
   "mimetype": "text/x-python",
   "name": "python",
   "nbconvert_exporter": "python",
   "pygments_lexer": "ipython3",
   "version": "3.8.3"
  }
 },
 "nbformat": 4,
 "nbformat_minor": 5
}
